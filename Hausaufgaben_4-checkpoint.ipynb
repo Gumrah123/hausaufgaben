{
 "cells": [
  {
   "cell_type": "markdown",
   "id": "ca05716c-4220-4fbe-bfb3-b59362bd1336",
   "metadata": {},
   "source": [
    "Aufgabe_1 Beantworten Sie die folgenden Fragen:\n",
    "1-Lesen Sie die CSV-Datei ein und zeigen Sie beschreibende Informationen über den Datensatz an"
   ]
  },
  {
   "cell_type": "code",
   "execution_count": 8,
   "id": "48b020cd-b421-484d-8f40-f154fee96d43",
   "metadata": {},
   "outputs": [],
   "source": [
    "import matplotlib.pyplot as plt\n",
    "plt.ion()\n",
    "import pandas as pd\n",
    "import numpy as np\n",
    "import seaborn as sns"
   ]
  },
  {
   "cell_type": "code",
   "execution_count": 9,
   "id": "1aeddf45-1be2-493c-a79a-ee55394012fd",
   "metadata": {},
   "outputs": [],
   "source": [
    "df= pd.read_csv(r\"C:\\Users\\User Laptop\\Desktop\\phyton\\phyton_ders\\ödevler\\ödev4\\customers-odev4.csv\")"
   ]
  },
  {
   "cell_type": "code",
   "execution_count": 20,
   "id": "16d0e9bc-9b51-4d84-9314-9a8e0fced45b",
   "metadata": {},
   "outputs": [
    {
     "data": {
      "image/png": "[encoded data removed]",
      "text/plain": [
       "<Figure size 640x480 with 1 Axes>"
      ]
     },
     "metadata": {},
     "output_type": "display_data"
    }
   ],
   "source": [
    "sns.barplot(x= \"PRICE\",y= \"PLATFORM\", hue= \"GENDER\", data= df);"
   ]
  },
  {
   "cell_type": "code",
   "execution_count": 3,
   "id": "e3673f51-09a3-479b-a36b-bbb149cf465a",
   "metadata": {},
   "outputs": [
    {
     "name": "stdout",
     "output_type": "stream",
     "text": [
      "<class 'pandas.core.frame.DataFrame'>\n",
      "RangeIndex: 5000 entries, 0 to 4999\n",
      "Data columns (total 5 columns):\n",
      " #   Column    Non-Null Count  Dtype \n",
      "---  ------    --------------  ----- \n",
      " 0   PRICE     5000 non-null   int64 \n",
      " 1   PLATFORM  5000 non-null   object\n",
      " 2   GENDER    5000 non-null   object\n",
      " 3   REGION    5000 non-null   object\n",
      " 4   AGE       5000 non-null   int64 \n",
      "dtypes: int64(2), object(3)\n",
      "memory usage: 195.4+ KB\n"
     ]
    },
    {
     "data": {
      "text/plain": [
       "PRICE       0\n",
       "PLATFORM    0\n",
       "GENDER      0\n",
       "REGION      0\n",
       "AGE         0\n",
       "dtype: int64"
      ]
     },
     "execution_count": 3,
     "metadata": {},
     "output_type": "execute_result"
    }
   ],
   "source": [
    "df.head(10)\n",
    "df.info()\n",
    "df.dtypes\n",
    "df.shape\n",
    "df.describe().T\n",
    "df.isnull().values.any()\n",
    "df.isnull().sum()"
   ]
  },
  {
   "cell_type": "markdown",
   "id": "2f04bab6-c22e-4eaf-82bf-be33353354af",
   "metadata": {},
   "source": [
    "2-Wie viele einzigartige (unique) PLATFORM gibt es? Was sind ihre Frequenzen?"
   ]
  },
  {
   "cell_type": "code",
   "execution_count": 4,
   "id": "a3e83731-ce94-4807-bbcf-fdf04caeab65",
   "metadata": {},
   "outputs": [
    {
     "data": {
      "text/plain": [
       "PLATFORM\n",
       "android    2974\n",
       "ios        2026\n",
       "Name: count, dtype: int64"
      ]
     },
     "execution_count": 4,
     "metadata": {},
     "output_type": "execute_result"
    }
   ],
   "source": [
    "df[\"PLATFORM\"].unique()\n",
    "df[\"PLATFORM\"].value_counts().count()\n",
    "df[\"PLATFORM\"].value_counts()"
   ]
  },
  {
   "cell_type": "markdown",
   "id": "8aed19cf-165b-4deb-b818-7c922941e08b",
   "metadata": {},
   "source": [
    "3-Wie viele einzigartige (unique) PRICE gibt es?"
   ]
  },
  {
   "cell_type": "code",
   "execution_count": 5,
   "id": "d83a556d-af82-43fe-8335-850b240a512a",
   "metadata": {},
   "outputs": [
    {
     "data": {
      "text/plain": [
       "6"
      ]
     },
     "execution_count": 5,
     "metadata": {},
     "output_type": "execute_result"
    }
   ],
   "source": [
    "df[\"PRICE\"].nunique()\n",
    "df[\"PRICE\"].value_counts()\n",
    "df[\"PRICE\"].value_counts().count()"
   ]
  },
  {
   "cell_type": "markdown",
   "id": "10042a01-59e6-4481-84d9-c195d16d4b2b",
   "metadata": {},
   "source": [
    "#4-Wie viele Einheiten  von PRICE wurden verkauft?"
   ]
  },
  {
   "cell_type": "code",
   "execution_count": 6,
   "id": "2bdd50b0-96d9-422d-b88b-86c18793009d",
   "metadata": {},
   "outputs": [
    {
     "data": {
      "text/plain": [
       "PRICE\n",
       "29    1305\n",
       "39    1260\n",
       "49    1031\n",
       "19     992\n",
       "59     212\n",
       "9      200\n",
       "Name: count, dtype: int64"
      ]
     },
     "execution_count": 6,
     "metadata": {},
     "output_type": "execute_result"
    }
   ],
   "source": [
    "df[\"PRICE\"].value_counts()"
   ]
  },
  {
   "cell_type": "markdown",
   "id": "a818aebe-7382-4c4e-8d9c-1c34964935f5",
   "metadata": {},
   "source": [
    "5-Wie viele Einheiten wurden aus welchem Land verkauft?"
   ]
  },
  {
   "cell_type": "code",
   "execution_count": 7,
   "id": "798eb2a1-b862-4436-8a20-91d18fcfe7dc",
   "metadata": {},
   "outputs": [
    {
     "data": {
      "text/plain": [
       "REGION\n",
       "usa    2065\n",
       "bra    1496\n",
       "deu     455\n",
       "tur     451\n",
       "fra     303\n",
       "can     230\n",
       "Name: count, dtype: int64"
      ]
     },
     "execution_count": 7,
     "metadata": {},
     "output_type": "execute_result"
    }
   ],
   "source": [
    "df[\"REGION\"].value_counts()"
   ]
  },
  {
   "cell_type": "markdown",
   "id": "dc4d00ee-4b0d-4ea9-a7fe-74177b1bf6cf",
   "metadata": {},
   "source": [
    "6-Wie viel wurde insgesamt durch Verkäufe nach Ländern verdient?"
   ]
  },
  {
   "cell_type": "code",
   "execution_count": null,
   "id": "38fe4702-8844-4b7f-90d1-7654cf386e5a",
   "metadata": {},
   "outputs": [],
   "source": [
    "#df.groupby(\"REGION\")[\"PRICE\"].sum()\n",
    "#wenn wir sortieren wollen (vom K zum G)\n",
    "#l= (df.groupby(\"REGION\")[\"PRICE\"].sum()).tolist()\n",
    "#l.sort()\n",
    "#print(l)"
   ]
  },
  {
   "cell_type": "code",
   "execution_count": 9,
   "id": "e7180c5e-fe5e-42a5-a106-613e8bbbd274",
   "metadata": {},
   "outputs": [
    {
     "data": {
      "text/html": [
       "<div>\n",
       "<style scoped>\n",
       "    .dataframe tbody tr th:only-of-type {\n",
       "        vertical-align: middle;\n",
       "    }\n",
       "\n",
       "    .dataframe tbody tr th {\n",
       "        vertical-align: top;\n",
       "    }\n",
       "\n",
       "    .dataframe thead th {\n",
       "        text-align: right;\n",
       "    }\n",
       "</style>\n",
       "<table border=\"1\" class=\"dataframe\">\n",
       "  <thead>\n",
       "    <tr style=\"text-align: right;\">\n",
       "      <th></th>\n",
       "      <th>PRICE</th>\n",
       "    </tr>\n",
       "    <tr>\n",
       "      <th>REGION</th>\n",
       "      <th></th>\n",
       "    </tr>\n",
       "  </thead>\n",
       "  <tbody>\n",
       "    <tr>\n",
       "      <th>bra</th>\n",
       "      <td>1496</td>\n",
       "    </tr>\n",
       "    <tr>\n",
       "      <th>can</th>\n",
       "      <td>230</td>\n",
       "    </tr>\n",
       "    <tr>\n",
       "      <th>deu</th>\n",
       "      <td>455</td>\n",
       "    </tr>\n",
       "    <tr>\n",
       "      <th>fra</th>\n",
       "      <td>303</td>\n",
       "    </tr>\n",
       "    <tr>\n",
       "      <th>tur</th>\n",
       "      <td>451</td>\n",
       "    </tr>\n",
       "    <tr>\n",
       "      <th>usa</th>\n",
       "      <td>2065</td>\n",
       "    </tr>\n",
       "  </tbody>\n",
       "</table>\n",
       "</div>"
      ],
      "text/plain": [
       "        PRICE\n",
       "REGION       \n",
       "bra      1496\n",
       "can       230\n",
       "deu       455\n",
       "fra       303\n",
       "tur       451\n",
       "usa      2065"
      ]
     },
     "execution_count": 9,
     "metadata": {},
     "output_type": "execute_result"
    }
   ],
   "source": [
    "df.pivot_table(values=\"PRICE\", index=\"REGION\", aggfunc=\"count\")"
   ]
  },
  {
   "cell_type": "code",
   "execution_count": 10,
   "id": "c5c5b3b1-9de5-4294-b3cd-2f772a9404a5",
   "metadata": {},
   "outputs": [
    {
     "data": {
      "text/html": [
       "<div>\n",
       "<style scoped>\n",
       "    .dataframe tbody tr th:only-of-type {\n",
       "        vertical-align: middle;\n",
       "    }\n",
       "\n",
       "    .dataframe tbody tr th {\n",
       "        vertical-align: top;\n",
       "    }\n",
       "\n",
       "    .dataframe thead th {\n",
       "        text-align: right;\n",
       "    }\n",
       "</style>\n",
       "<table border=\"1\" class=\"dataframe\">\n",
       "  <thead>\n",
       "    <tr style=\"text-align: right;\">\n",
       "      <th></th>\n",
       "      <th>PRICE</th>\n",
       "    </tr>\n",
       "    <tr>\n",
       "      <th>REGION</th>\n",
       "      <th></th>\n",
       "    </tr>\n",
       "  </thead>\n",
       "  <tbody>\n",
       "    <tr>\n",
       "      <th>bra</th>\n",
       "      <td>51354</td>\n",
       "    </tr>\n",
       "    <tr>\n",
       "      <th>can</th>\n",
       "      <td>7730</td>\n",
       "    </tr>\n",
       "    <tr>\n",
       "      <th>deu</th>\n",
       "      <td>15485</td>\n",
       "    </tr>\n",
       "    <tr>\n",
       "      <th>fra</th>\n",
       "      <td>10177</td>\n",
       "    </tr>\n",
       "    <tr>\n",
       "      <th>tur</th>\n",
       "      <td>15689</td>\n",
       "    </tr>\n",
       "    <tr>\n",
       "      <th>usa</th>\n",
       "      <td>70225</td>\n",
       "    </tr>\n",
       "  </tbody>\n",
       "</table>\n",
       "</div>"
      ],
      "text/plain": [
       "        PRICE\n",
       "REGION       \n",
       "bra     51354\n",
       "can      7730\n",
       "deu     15485\n",
       "fra     10177\n",
       "tur     15689\n",
       "usa     70225"
      ]
     },
     "execution_count": 10,
     "metadata": {},
     "output_type": "execute_result"
    }
   ],
   "source": [
    "df.pivot_table(values=\"PRICE\", index=\"REGION\", aggfunc=\"sum\")"
   ]
  },
  {
   "cell_type": "markdown",
   "id": "d18de47c-7b84-4b6b-8acd-e596a88bd579",
   "metadata": {},
   "source": [
    "7-Wie hoch sind die Verkaufszahlen (\"PRICE\") nach Plattformtypen (\"PLATFORM\")?"
   ]
  },
  {
   "cell_type": "code",
   "execution_count": 11,
   "id": "88477d4e-9d18-4602-9481-93b0608dc116",
   "metadata": {},
   "outputs": [
    {
     "data": {
      "text/plain": [
       "PLATFORM\n",
       "android    2974\n",
       "ios        2026\n",
       "Name: PRICE, dtype: int64"
      ]
     },
     "execution_count": 11,
     "metadata": {},
     "output_type": "execute_result"
    }
   ],
   "source": [
    "df.groupby(\"PLATFORM\")[\"PRICE\"].count()"
   ]
  },
  {
   "cell_type": "markdown",
   "id": "cd75c2d3-876d-4b69-a14a-a55d6d9e6892",
   "metadata": {},
   "source": [
    "8-Wie hoch ist der Preisdurchschnitte (PRICE-mean) je nach Land (REGION)?"
   ]
  },
  {
   "cell_type": "code",
   "execution_count": 12,
   "id": "55639574-1714-411a-b657-a125cd083a3f",
   "metadata": {},
   "outputs": [
    {
     "data": {
      "text/html": [
       "<div>\n",
       "<style scoped>\n",
       "    .dataframe tbody tr th:only-of-type {\n",
       "        vertical-align: middle;\n",
       "    }\n",
       "\n",
       "    .dataframe tbody tr th {\n",
       "        vertical-align: top;\n",
       "    }\n",
       "\n",
       "    .dataframe thead th {\n",
       "        text-align: right;\n",
       "    }\n",
       "</style>\n",
       "<table border=\"1\" class=\"dataframe\">\n",
       "  <thead>\n",
       "    <tr style=\"text-align: right;\">\n",
       "      <th></th>\n",
       "      <th>PRICE</th>\n",
       "    </tr>\n",
       "    <tr>\n",
       "      <th>REGION</th>\n",
       "      <th></th>\n",
       "    </tr>\n",
       "  </thead>\n",
       "  <tbody>\n",
       "    <tr>\n",
       "      <th>bra</th>\n",
       "      <td>34.327540</td>\n",
       "    </tr>\n",
       "    <tr>\n",
       "      <th>can</th>\n",
       "      <td>33.608696</td>\n",
       "    </tr>\n",
       "    <tr>\n",
       "      <th>deu</th>\n",
       "      <td>34.032967</td>\n",
       "    </tr>\n",
       "    <tr>\n",
       "      <th>fra</th>\n",
       "      <td>33.587459</td>\n",
       "    </tr>\n",
       "    <tr>\n",
       "      <th>tur</th>\n",
       "      <td>34.787140</td>\n",
       "    </tr>\n",
       "    <tr>\n",
       "      <th>usa</th>\n",
       "      <td>34.007264</td>\n",
       "    </tr>\n",
       "  </tbody>\n",
       "</table>\n",
       "</div>"
      ],
      "text/plain": [
       "            PRICE\n",
       "REGION           \n",
       "bra     34.327540\n",
       "can     33.608696\n",
       "deu     34.032967\n",
       "fra     33.587459\n",
       "tur     34.787140\n",
       "usa     34.007264"
      ]
     },
     "execution_count": 12,
     "metadata": {},
     "output_type": "execute_result"
    }
   ],
   "source": [
    "df.groupby(by=[\"REGION\"]).agg({\"PRICE\": \"mean\"})"
   ]
  },
  {
   "cell_type": "code",
   "execution_count": null,
   "id": "07093332-8030-4f67-bbe0-d2cc8cb33821",
   "metadata": {},
   "outputs": [],
   "source": [
    "#df.groupby(\"REGION\")[\"PRICE\"].mean()"
   ]
  },
  {
   "cell_type": "markdown",
   "id": "13f1b916-6e23-454d-bc7f-ae77876a4632",
   "metadata": {},
   "source": [
    "9-Wie hoch ist der Preisdurchschnitte (PRICE-mean) je nach Land (PLATFORM)?"
   ]
  },
  {
   "cell_type": "code",
   "execution_count": 13,
   "id": "4a65b002-f9c9-449c-94d6-e4104572d732",
   "metadata": {},
   "outputs": [
    {
     "data": {
      "text/plain": [
       "PLATFORM\n",
       "android    34.174849\n",
       "ios        34.069102\n",
       "Name: PRICE, dtype: float64"
      ]
     },
     "execution_count": 13,
     "metadata": {},
     "output_type": "execute_result"
    }
   ],
   "source": [
    "df.groupby(\"PLATFORM\")[\"PRICE\"].mean()"
   ]
  },
  {
   "cell_type": "markdown",
   "id": "40010eb2-c6c9-4f1d-aedd-43d1850b3e2b",
   "metadata": {},
   "source": [
    "10-Wie hoch sind die Durchschnittspreise (PRICE-mean) in der Aufschlüsselung \"REGION\" und \"PLATFORM?"
   ]
  },
  {
   "cell_type": "code",
   "execution_count": 14,
   "id": "a4bb3b05-c4ef-4e8f-b195-d7dcc3c402d8",
   "metadata": {},
   "outputs": [
    {
     "data": {
      "text/plain": [
       "REGION  PLATFORM\n",
       "bra     android     34.387029\n",
       "        ios         34.222222\n",
       "can     android     33.330709\n",
       "        ios         33.951456\n",
       "deu     android     33.869888\n",
       "        ios         34.268817\n",
       "fra     android     34.312500\n",
       "        ios         32.776224\n",
       "tur     android     36.229437\n",
       "        ios         33.272727\n",
       "usa     android     33.760357\n",
       "        ios         34.371703\n",
       "Name: PRICE, dtype: float64"
      ]
     },
     "execution_count": 14,
     "metadata": {},
     "output_type": "execute_result"
    }
   ],
   "source": [
    "df.groupby([\"REGION\", \"PLATFORM\"])[\"PRICE\"].mean()"
   ]
  },
  {
   "cell_type": "markdown",
   "id": "32fa43b6-0191-4ab2-8e6f-d3582058c419",
   "metadata": {},
   "source": [
    "Aufgabe_2 Wie hoch sind die Durchschnittspreise (PRICE-mean) in der Aufschlüsselung \"REGION\", \"PLATFORM\", \"GENDER\", \"AGE\"?"
   ]
  },
  {
   "cell_type": "code",
   "execution_count": 15,
   "id": "45178b3e-e3e4-4fce-913e-d60495a52b0f",
   "metadata": {},
   "outputs": [
    {
     "data": {
      "text/plain": [
       "REGION  PLATFORM  GENDER  AGE\n",
       "bra     android   female  15     38.714286\n",
       "                          16     35.944444\n",
       "                          17     35.666667\n",
       "                          18     32.255814\n",
       "                          19     35.206897\n",
       "                                   ...    \n",
       "usa     ios       male    42     30.250000\n",
       "                          50     39.000000\n",
       "                          53     34.000000\n",
       "                          55     29.000000\n",
       "                          59     46.500000\n",
       "Name: PRICE, Length: 348, dtype: float64"
      ]
     },
     "execution_count": 15,
     "metadata": {},
     "output_type": "execute_result"
    }
   ],
   "source": [
    "df.groupby([\"REGION\", \"PLATFORM\", \"GENDER\", \"AGE\"])[\"PRICE\"].mean()"
   ]
  },
  {
   "cell_type": "markdown",
   "id": "763e27ac-a4f7-43d2-a1cf-be3f5c9e31b4",
   "metadata": {},
   "source": [
    "Aufgabe_3 Sortieren Sie die Ausgabe absteigend nach der Variable \"PRICE\"\n",
    "und speichern Sie die Ergebnisse als \"agg_df\""
   ]
  },
  {
   "cell_type": "code",
   "execution_count": 28,
   "id": "df4a80cf-e1c9-4b82-9622-658e21710698",
   "metadata": {},
   "outputs": [],
   "source": [
    "agg_df= df.groupby([\"REGION\", \"PLATFORM\", \"GENDER\", \"AGE\"])[\"PRICE\"].mean().sort_values(ascending= False)"
   ]
  },
  {
   "cell_type": "code",
   "execution_count": 29,
   "id": "d0ba09c4-88ee-4351-8edb-2e3f1094bd08",
   "metadata": {},
   "outputs": [
    {
     "data": {
      "text/plain": [
       "REGION  PLATFORM  GENDER  AGE\n",
       "bra     android   male    46     59.0\n",
       "usa     android   male    36     59.0\n",
       "fra     android   female  24     59.0\n",
       "usa     ios       male    32     54.0\n",
       "deu     android   female  36     49.0\n",
       "Name: PRICE, dtype: float64"
      ]
     },
     "execution_count": 29,
     "metadata": {},
     "output_type": "execute_result"
    }
   ],
   "source": [
    "agg_df.head()"
   ]
  },
  {
   "cell_type": "markdown",
   "id": "54c1dcd4-1d02-48a4-af2e-29fec37a7ae9",
   "metadata": {},
   "source": [
    "Aufgabe_4 Weisen Sie die im Index enthaltenen Namen als Variablen zu"
   ]
  },
  {
   "cell_type": "code",
   "execution_count": 30,
   "id": "a6c4b1fe-c783-4792-8bcb-6ee55c98977a",
   "metadata": {},
   "outputs": [],
   "source": [
    "agg_df= agg_df.reset_index()"
   ]
  },
  {
   "cell_type": "code",
   "execution_count": 31,
   "id": "76bf93b3-72dd-4d7b-9b1c-f3c8a207c2e2",
   "metadata": {},
   "outputs": [
    {
     "data": {
      "text/html": [
       "<div>\n",
       "<style scoped>\n",
       "    .dataframe tbody tr th:only-of-type {\n",
       "        vertical-align: middle;\n",
       "    }\n",
       "\n",
       "    .dataframe tbody tr th {\n",
       "        vertical-align: top;\n",
       "    }\n",
       "\n",
       "    .dataframe thead th {\n",
       "        text-align: right;\n",
       "    }\n",
       "</style>\n",
       "<table border=\"1\" class=\"dataframe\">\n",
       "  <thead>\n",
       "    <tr style=\"text-align: right;\">\n",
       "      <th></th>\n",
       "      <th>REGION</th>\n",
       "      <th>PLATFORM</th>\n",
       "      <th>GENDER</th>\n",
       "      <th>AGE</th>\n",
       "      <th>PRICE</th>\n",
       "    </tr>\n",
       "  </thead>\n",
       "  <tbody>\n",
       "    <tr>\n",
       "      <th>0</th>\n",
       "      <td>bra</td>\n",
       "      <td>android</td>\n",
       "      <td>male</td>\n",
       "      <td>46</td>\n",
       "      <td>59.0</td>\n",
       "    </tr>\n",
       "    <tr>\n",
       "      <th>1</th>\n",
       "      <td>usa</td>\n",
       "      <td>android</td>\n",
       "      <td>male</td>\n",
       "      <td>36</td>\n",
       "      <td>59.0</td>\n",
       "    </tr>\n",
       "    <tr>\n",
       "      <th>2</th>\n",
       "      <td>fra</td>\n",
       "      <td>android</td>\n",
       "      <td>female</td>\n",
       "      <td>24</td>\n",
       "      <td>59.0</td>\n",
       "    </tr>\n",
       "    <tr>\n",
       "      <th>3</th>\n",
       "      <td>usa</td>\n",
       "      <td>ios</td>\n",
       "      <td>male</td>\n",
       "      <td>32</td>\n",
       "      <td>54.0</td>\n",
       "    </tr>\n",
       "    <tr>\n",
       "      <th>4</th>\n",
       "      <td>deu</td>\n",
       "      <td>android</td>\n",
       "      <td>female</td>\n",
       "      <td>36</td>\n",
       "      <td>49.0</td>\n",
       "    </tr>\n",
       "  </tbody>\n",
       "</table>\n",
       "</div>"
      ],
      "text/plain": [
       "  REGION PLATFORM  GENDER  AGE  PRICE\n",
       "0    bra  android    male   46   59.0\n",
       "1    usa  android    male   36   59.0\n",
       "2    fra  android  female   24   59.0\n",
       "3    usa      ios    male   32   54.0\n",
       "4    deu  android  female   36   49.0"
      ]
     },
     "execution_count": 31,
     "metadata": {},
     "output_type": "execute_result"
    }
   ],
   "source": [
    "agg_df.head()"
   ]
  },
  {
   "cell_type": "markdown",
   "id": "ec21e70c-ba14-4a6e-a644-36a629195a0e",
   "metadata": {},
   "source": [
    "Aufgabe_5 Konvertieren Sie die Variable AGE in eine kategoriale Variable und fügen Sie sie zum agg_df hinzu.\n",
    "Die Alterskategorien sollten wie folgt lauten (0-18, 19-23, 24-30, 31-40, 41-70)"
   ]
  },
  {
   "cell_type": "code",
   "execution_count": 32,
   "id": "e022f0e1-27c3-4f82-bd73-3a509cf5a4ff",
   "metadata": {},
   "outputs": [
    {
     "data": {
      "text/html": [
       "<div>\n",
       "<style scoped>\n",
       "    .dataframe tbody tr th:only-of-type {\n",
       "        vertical-align: middle;\n",
       "    }\n",
       "\n",
       "    .dataframe tbody tr th {\n",
       "        vertical-align: top;\n",
       "    }\n",
       "\n",
       "    .dataframe thead th {\n",
       "        text-align: right;\n",
       "    }\n",
       "</style>\n",
       "<table border=\"1\" class=\"dataframe\">\n",
       "  <thead>\n",
       "    <tr style=\"text-align: right;\">\n",
       "      <th></th>\n",
       "      <th>REGION</th>\n",
       "      <th>PLATFORM</th>\n",
       "      <th>GENDER</th>\n",
       "      <th>AGE</th>\n",
       "      <th>PRICE</th>\n",
       "      <th>yas_kat</th>\n",
       "    </tr>\n",
       "  </thead>\n",
       "  <tbody>\n",
       "    <tr>\n",
       "      <th>0</th>\n",
       "      <td>bra</td>\n",
       "      <td>android</td>\n",
       "      <td>male</td>\n",
       "      <td>46</td>\n",
       "      <td>59.0</td>\n",
       "      <td>41_70</td>\n",
       "    </tr>\n",
       "    <tr>\n",
       "      <th>1</th>\n",
       "      <td>usa</td>\n",
       "      <td>android</td>\n",
       "      <td>male</td>\n",
       "      <td>36</td>\n",
       "      <td>59.0</td>\n",
       "      <td>31_40</td>\n",
       "    </tr>\n",
       "    <tr>\n",
       "      <th>2</th>\n",
       "      <td>fra</td>\n",
       "      <td>android</td>\n",
       "      <td>female</td>\n",
       "      <td>24</td>\n",
       "      <td>59.0</td>\n",
       "      <td>24_30</td>\n",
       "    </tr>\n",
       "    <tr>\n",
       "      <th>3</th>\n",
       "      <td>usa</td>\n",
       "      <td>ios</td>\n",
       "      <td>male</td>\n",
       "      <td>32</td>\n",
       "      <td>54.0</td>\n",
       "      <td>31_40</td>\n",
       "    </tr>\n",
       "    <tr>\n",
       "      <th>4</th>\n",
       "      <td>deu</td>\n",
       "      <td>android</td>\n",
       "      <td>female</td>\n",
       "      <td>36</td>\n",
       "      <td>49.0</td>\n",
       "      <td>31_40</td>\n",
       "    </tr>\n",
       "  </tbody>\n",
       "</table>\n",
       "</div>"
      ],
      "text/plain": [
       "  REGION PLATFORM  GENDER  AGE  PRICE yas_kat\n",
       "0    bra  android    male   46   59.0   41_70\n",
       "1    usa  android    male   36   59.0   31_40\n",
       "2    fra  android  female   24   59.0   24_30\n",
       "3    usa      ios    male   32   54.0   31_40\n",
       "4    deu  android  female   36   49.0   31_40"
      ]
     },
     "execution_count": 32,
     "metadata": {},
     "output_type": "execute_result"
    }
   ],
   "source": [
    "agg_df[\"yas_kat\"]= pd.cut(agg_df[\"AGE\"], [0, 18, 23, 30, 40, 90], labels= [\"0_18\", \"19_23\", \"24_30\", \"31_40\", \"41_70\"])\n",
    "agg_df.head()"
   ]
  },
  {
   "cell_type": "markdown",
   "id": "dc357434-16ea-45bb-9512-21c481afda4c",
   "metadata": {},
   "source": [
    "Aufgabe_6 \"Erstellen Sie neue stufenbasierte Kundengruppen. Fügen Sie eine neue Variable hinzu: \"customer_profile\"\n",
    "##(Duplikate entfernen)"
   ]
  },
  {
   "cell_type": "code",
   "execution_count": 33,
   "id": "2d6eac0b-57a1-4d1a-9be0-a5447ba9de46",
   "metadata": {},
   "outputs": [
    {
     "name": "stdout",
     "output_type": "stream",
     "text": [
      "0        BRA_ANDROID_MALE_41_70\n",
      "1        USA_ANDROID_MALE_31_40\n",
      "2      FRA_ANDROID_FEMALE_24_30\n",
      "3            USA_IOS_MALE_31_40\n",
      "4      DEU_ANDROID_FEMALE_31_40\n",
      "                 ...           \n",
      "343        USA_IOS_FEMALE_31_40\n",
      "344        USA_IOS_FEMALE_24_30\n",
      "345    CAN_ANDROID_FEMALE_24_30\n",
      "346       FRA_ANDROID_MALE_0_18\n",
      "347      DEU_ANDROID_MALE_24_30\n",
      "Name: customer_profile, Length: 348, dtype: object\n"
     ]
    }
   ],
   "source": [
    "agg_df[\"customer_profile\"] = list(map(lambda row: row[0].upper() + \"_\" + row[1].upper() + \"_\" + row[2].upper() + \"_\" + row[5] ,agg_df.values))\n",
    "print(agg_df[\"customer_profile\"])\n",
    "\n",
    "agg_df= agg_df.groupby([\"customer_profile\"])[[\"PRICE\"]].aggregate({\"PRICE\": \"mean\"})"
   ]
  },
  {
   "cell_type": "code",
   "execution_count": 34,
   "id": "43ae6d01-802c-475f-af57-4efc67470c57",
   "metadata": {},
   "outputs": [
    {
     "data": {
      "text/html": [
       "<div>\n",
       "<style scoped>\n",
       "    .dataframe tbody tr th:only-of-type {\n",
       "        vertical-align: middle;\n",
       "    }\n",
       "\n",
       "    .dataframe tbody tr th {\n",
       "        vertical-align: top;\n",
       "    }\n",
       "\n",
       "    .dataframe thead th {\n",
       "        text-align: right;\n",
       "    }\n",
       "</style>\n",
       "<table border=\"1\" class=\"dataframe\">\n",
       "  <thead>\n",
       "    <tr style=\"text-align: right;\">\n",
       "      <th></th>\n",
       "      <th>customer_profile</th>\n",
       "      <th>PRICE</th>\n",
       "    </tr>\n",
       "  </thead>\n",
       "  <tbody>\n",
       "    <tr>\n",
       "      <th>0</th>\n",
       "      <td>BRA_ANDROID_FEMALE_0_18</td>\n",
       "      <td>35.645303</td>\n",
       "    </tr>\n",
       "    <tr>\n",
       "      <th>1</th>\n",
       "      <td>BRA_ANDROID_FEMALE_19_23</td>\n",
       "      <td>34.077340</td>\n",
       "    </tr>\n",
       "    <tr>\n",
       "      <th>2</th>\n",
       "      <td>BRA_ANDROID_FEMALE_24_30</td>\n",
       "      <td>33.863946</td>\n",
       "    </tr>\n",
       "    <tr>\n",
       "      <th>3</th>\n",
       "      <td>BRA_ANDROID_FEMALE_31_40</td>\n",
       "      <td>34.898326</td>\n",
       "    </tr>\n",
       "    <tr>\n",
       "      <th>4</th>\n",
       "      <td>BRA_ANDROID_FEMALE_41_70</td>\n",
       "      <td>36.737179</td>\n",
       "    </tr>\n",
       "  </tbody>\n",
       "</table>\n",
       "</div>"
      ],
      "text/plain": [
       "           customer_profile      PRICE\n",
       "0   BRA_ANDROID_FEMALE_0_18  35.645303\n",
       "1  BRA_ANDROID_FEMALE_19_23  34.077340\n",
       "2  BRA_ANDROID_FEMALE_24_30  33.863946\n",
       "3  BRA_ANDROID_FEMALE_31_40  34.898326\n",
       "4  BRA_ANDROID_FEMALE_41_70  36.737179"
      ]
     },
     "execution_count": 34,
     "metadata": {},
     "output_type": "execute_result"
    }
   ],
   "source": [
    "agg_df= agg_df.reset_index()\n",
    "agg_df.head()"
   ]
  },
  {
   "cell_type": "markdown",
   "id": "4d0bf35c-c091-49c7-a712-a73f85fdfe7a",
   "metadata": {},
   "source": [
    "Aufgabe_7 Teilen Sie neue Kunden anhand von PRICE in 4 Segmente auf.\n",
    "Fügen Sie die Segmente als Variable mit dem Namen „SEGMENT“ in agg_df hinzu.\n",
    "Beschreiben Sie die Segmente (führen Sie eine Gruppierung nach Segmenten durch und berechnen Sie den maximalen, mittleren und gesamten Preis).\""
   ]
  },
  {
   "cell_type": "code",
   "execution_count": 35,
   "id": "bba9bc5d-8195-4ad1-a94e-dd56c5312af6",
   "metadata": {},
   "outputs": [
    {
     "name": "stderr",
     "output_type": "stream",
     "text": [
      "C:\\Users\\User Laptop\\AppData\\Local\\Temp\\ipykernel_13552\\642286830.py:2: FutureWarning: The default of observed=False is deprecated and will be changed to True in a future version of pandas. Pass observed=False to retain current behavior or observed=True to adopt the future default and silence this warning.\n",
      "  agg_df.groupby([\"SEGMENT\"])[[\"PRICE\"]].agg([\"mean\", \"max\",\"sum\"])\n"
     ]
    },
    {
     "data": {
      "text/html": [
       "<div>\n",
       "<style scoped>\n",
       "    .dataframe tbody tr th:only-of-type {\n",
       "        vertical-align: middle;\n",
       "    }\n",
       "\n",
       "    .dataframe tbody tr th {\n",
       "        vertical-align: top;\n",
       "    }\n",
       "\n",
       "    .dataframe thead th {\n",
       "        text-align: right;\n",
       "    }\n",
       "</style>\n",
       "<table border=\"1\" class=\"dataframe\">\n",
       "  <thead>\n",
       "    <tr style=\"text-align: right;\">\n",
       "      <th></th>\n",
       "      <th>customer_profile</th>\n",
       "      <th>PRICE</th>\n",
       "      <th>SEGMENT</th>\n",
       "    </tr>\n",
       "  </thead>\n",
       "  <tbody>\n",
       "    <tr>\n",
       "      <th>54</th>\n",
       "      <td>FRA_ANDROID_FEMALE_24_30</td>\n",
       "      <td>45.428571</td>\n",
       "      <td>A</td>\n",
       "    </tr>\n",
       "    <tr>\n",
       "      <th>86</th>\n",
       "      <td>TUR_IOS_MALE_24_30</td>\n",
       "      <td>45.000000</td>\n",
       "      <td>A</td>\n",
       "    </tr>\n",
       "    <tr>\n",
       "      <th>87</th>\n",
       "      <td>TUR_IOS_MALE_31_40</td>\n",
       "      <td>42.333333</td>\n",
       "      <td>A</td>\n",
       "    </tr>\n",
       "    <tr>\n",
       "      <th>72</th>\n",
       "      <td>TUR_ANDROID_FEMALE_31_40</td>\n",
       "      <td>41.833333</td>\n",
       "      <td>A</td>\n",
       "    </tr>\n",
       "    <tr>\n",
       "      <th>25</th>\n",
       "      <td>CAN_ANDROID_MALE_19_23</td>\n",
       "      <td>40.111111</td>\n",
       "      <td>A</td>\n",
       "    </tr>\n",
       "    <tr>\n",
       "      <th>...</th>\n",
       "      <td>...</td>\n",
       "      <td>...</td>\n",
       "      <td>...</td>\n",
       "    </tr>\n",
       "    <tr>\n",
       "      <th>88</th>\n",
       "      <td>TUR_IOS_MALE_41_70</td>\n",
       "      <td>25.052632</td>\n",
       "      <td>D</td>\n",
       "    </tr>\n",
       "    <tr>\n",
       "      <th>85</th>\n",
       "      <td>TUR_IOS_MALE_19_23</td>\n",
       "      <td>24.833333</td>\n",
       "      <td>D</td>\n",
       "    </tr>\n",
       "    <tr>\n",
       "      <th>56</th>\n",
       "      <td>FRA_ANDROID_MALE_0_18</td>\n",
       "      <td>24.625000</td>\n",
       "      <td>D</td>\n",
       "    </tr>\n",
       "    <tr>\n",
       "      <th>22</th>\n",
       "      <td>CAN_ANDROID_FEMALE_24_30</td>\n",
       "      <td>19.000000</td>\n",
       "      <td>D</td>\n",
       "    </tr>\n",
       "    <tr>\n",
       "      <th>41</th>\n",
       "      <td>DEU_ANDROID_MALE_24_30</td>\n",
       "      <td>19.000000</td>\n",
       "      <td>D</td>\n",
       "    </tr>\n",
       "  </tbody>\n",
       "</table>\n",
       "<p>109 rows × 3 columns</p>\n",
       "</div>"
      ],
      "text/plain": [
       "            customer_profile      PRICE SEGMENT\n",
       "54  FRA_ANDROID_FEMALE_24_30  45.428571       A\n",
       "86        TUR_IOS_MALE_24_30  45.000000       A\n",
       "87        TUR_IOS_MALE_31_40  42.333333       A\n",
       "72  TUR_ANDROID_FEMALE_31_40  41.833333       A\n",
       "25    CAN_ANDROID_MALE_19_23  40.111111       A\n",
       "..                       ...        ...     ...\n",
       "88        TUR_IOS_MALE_41_70  25.052632       D\n",
       "85        TUR_IOS_MALE_19_23  24.833333       D\n",
       "56     FRA_ANDROID_MALE_0_18  24.625000       D\n",
       "22  CAN_ANDROID_FEMALE_24_30  19.000000       D\n",
       "41    DEU_ANDROID_MALE_24_30  19.000000       D\n",
       "\n",
       "[109 rows x 3 columns]"
      ]
     },
     "execution_count": 35,
     "metadata": {},
     "output_type": "execute_result"
    }
   ],
   "source": [
    "agg_df[\"SEGMENT\"]= pd.qcut(agg_df[\"PRICE\"],4,labels= [\"D\", \"C\", \"B\", \"A\"])\n",
    "agg_df.groupby([\"SEGMENT\"])[[\"PRICE\"]].agg([\"mean\", \"max\",\"sum\"])\n",
    "\n",
    "\n",
    "agg_df.sort_values(\"PRICE\", ascending= False)"
   ]
  },
  {
   "cell_type": "markdown",
   "id": "fd041e6c-677e-4702-b725-aba370081b7d",
   "metadata": {},
   "source": [
    "Aufgabe_8 \"Klassifizieren Sie neue Kunden und schätzen Sie, wie viel Einkommen sie generieren können.\n",
    "\n",
    "Welchem Segment gehört eine 33-jährige türkische Frau, die ein ANDROID-Gerät benutzt, an und\n",
    "wie viel Einkommen wird sie voraussichtlich im Durchschnitt generieren?\""
   ]
  },
  {
   "cell_type": "code",
   "execution_count": 36,
   "id": "32b7d8b1-2e51-49a8-bc5b-c62c9f697609",
   "metadata": {},
   "outputs": [
    {
     "data": {
      "text/html": [
       "<div>\n",
       "<style scoped>\n",
       "    .dataframe tbody tr th:only-of-type {\n",
       "        vertical-align: middle;\n",
       "    }\n",
       "\n",
       "    .dataframe tbody tr th {\n",
       "        vertical-align: top;\n",
       "    }\n",
       "\n",
       "    .dataframe thead th {\n",
       "        text-align: right;\n",
       "    }\n",
       "</style>\n",
       "<table border=\"1\" class=\"dataframe\">\n",
       "  <thead>\n",
       "    <tr style=\"text-align: right;\">\n",
       "      <th></th>\n",
       "      <th>customer_profile</th>\n",
       "      <th>PRICE</th>\n",
       "      <th>SEGMENT</th>\n",
       "    </tr>\n",
       "  </thead>\n",
       "  <tbody>\n",
       "    <tr>\n",
       "      <th>72</th>\n",
       "      <td>TUR_ANDROID_FEMALE_31_40</td>\n",
       "      <td>41.833333</td>\n",
       "      <td>A</td>\n",
       "    </tr>\n",
       "  </tbody>\n",
       "</table>\n",
       "</div>"
      ],
      "text/plain": [
       "            customer_profile      PRICE SEGMENT\n",
       "72  TUR_ANDROID_FEMALE_31_40  41.833333       A"
      ]
     },
     "execution_count": 36,
     "metadata": {},
     "output_type": "execute_result"
    }
   ],
   "source": [
    "new_user= \"TUR_ANDROID_FEMALE_31_40\"\n",
    "agg_df[agg_df[\"customer_profile\"] == new_user]"
   ]
  },
  {
   "cell_type": "markdown",
   "id": "a0939e66-da75-4f14-a73f-ad72c5cc5c40",
   "metadata": {},
   "source": [
    "Welchem Segment gehört eine 35-jährige fransözische Frau, die ein IOS-Gerät benutzt, an und\n",
    "wie viel Einkommen wird sie voraussichtlich im Durchschnitt generieren?\""
   ]
  },
  {
   "cell_type": "code",
   "execution_count": 37,
   "id": "6355b241-7a75-4bde-8ea9-127213d86c20",
   "metadata": {},
   "outputs": [
    {
     "data": {
      "text/html": [
       "<div>\n",
       "<style scoped>\n",
       "    .dataframe tbody tr th:only-of-type {\n",
       "        vertical-align: middle;\n",
       "    }\n",
       "\n",
       "    .dataframe tbody tr th {\n",
       "        vertical-align: top;\n",
       "    }\n",
       "\n",
       "    .dataframe thead th {\n",
       "        text-align: right;\n",
       "    }\n",
       "</style>\n",
       "<table border=\"1\" class=\"dataframe\">\n",
       "  <thead>\n",
       "    <tr style=\"text-align: right;\">\n",
       "      <th></th>\n",
       "      <th>customer_profile</th>\n",
       "      <th>PRICE</th>\n",
       "      <th>SEGMENT</th>\n",
       "    </tr>\n",
       "  </thead>\n",
       "  <tbody>\n",
       "    <tr>\n",
       "      <th>63</th>\n",
       "      <td>FRA_IOS_FEMALE_31_40</td>\n",
       "      <td>32.818182</td>\n",
       "      <td>C</td>\n",
       "    </tr>\n",
       "  </tbody>\n",
       "</table>\n",
       "</div>"
      ],
      "text/plain": [
       "        customer_profile      PRICE SEGMENT\n",
       "63  FRA_IOS_FEMALE_31_40  32.818182       C"
      ]
     },
     "execution_count": 37,
     "metadata": {},
     "output_type": "execute_result"
    }
   ],
   "source": [
    "new_user= \"FRA_IOS_FEMALE_31_40\"\n",
    "agg_df[agg_df[\"customer_profile\"] == new_user]"
   ]
  },
  {
   "cell_type": "code",
   "execution_count": null,
   "id": "2c5d70f8-b32a-42f7-a7aa-137fba9c4e1b",
   "metadata": {},
   "outputs": [],
   "source": []
  }
 ],
 "metadata": {
  "kernelspec": {
   "display_name": "Python 3 (ipykernel)",
   "language": "python",
   "name": "python3"
  },
  "language_info": {
   "codemirror_mode": {
    "name": "ipython",
    "version": 3
   },
   "file_extension": ".py",
   "mimetype": "text/x-python",
   "name": "python",
   "nbconvert_exporter": "python",
   "pygments_lexer": "ipython3",
   "version": "3.12.7"
  }
 },
 "nbformat": 4,
 "nbformat_minor": 5
}
